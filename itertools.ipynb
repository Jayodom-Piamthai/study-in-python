{
 "cells": [
  {
   "cell_type": "code",
   "execution_count": null,
   "metadata": {},
   "outputs": [],
   "source": [
    "#Itertools-collection of tools for handling iterators\n",
    "#product,permutations,combunations,accumulate,groupby,infinite itteration\n",
    "from itertools import combinations_with_replacement, permutations, product,combinations,accumulate,groupby"
   ]
  },
  {
   "cell_type": "code",
   "execution_count": null,
   "metadata": {},
   "outputs": [
    {
     "ename": "",
     "evalue": "",
     "output_type": "error",
     "traceback": [
      "\u001b[1;31mThe kernel failed to start as 'Counter' could not be imported from 'most likely due to a circular import'.\n",
      "Click <a href='https://aka.ms/kernelFailuresModuleImportErrFromFile'>here</a> for more info."
     ]
    }
   ],
   "source": [
    "#01-product-all possible powerset combinations\n",
    "from itertools import combinations_with_replacement, permutations, product,combinations,accumulate,groupby\n",
    "a =[1,2]\n",
    "b=[5,8]\n",
    "prod = product(a,b)\n",
    "prodRep = product(a,b,repeat=2)\n",
    "print(list(prod))\n",
    "print(list(prodRep))"
   ]
  },
  {
   "cell_type": "code",
   "execution_count": null,
   "metadata": {},
   "outputs": [],
   "source": [
    "#02-permutations-all possible arrangement combinations\n",
    "set = [1,3,5,8]\n",
    "perm = permutations(set)\n",
    "print(list(perm))"
   ]
  },
  {
   "cell_type": "code",
   "execution_count": null,
   "metadata": {},
   "outputs": [],
   "source": [
    "#03 combinations-combinations of arrangements(permutations,but better)\n",
    "from itertools import combinations_with_replacement, permutations, product,combinations,accumulate,groupby\n",
    "congii = [\"a\",\"c\",\"e\",\"r\"]\n",
    "comb = combinations(congii,2)\n",
    "comb_wr = combinations_with_replacement(congii,2)#can use same shits\n",
    "print(list(comb))\n",
    "print(list(comb_wr))\n"
   ]
  }
 ],
 "metadata": {
  "interpreter": {
   "hash": "afb734500600fd355917ca529030176ea0ca205570884b88f2f6f7d791fd3fbe"
  },
  "kernelspec": {
   "display_name": "Python 3.10.0 64-bit",
   "language": "python",
   "name": "python3"
  },
  "language_info": {
   "name": "python",
   "version": "3.10.0"
  },
  "orig_nbformat": 4
 },
 "nbformat": 4,
 "nbformat_minor": 2
}
