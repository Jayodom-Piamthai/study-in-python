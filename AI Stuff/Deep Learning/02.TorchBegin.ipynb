{
 "cells": [
  {
   "cell_type": "markdown",
   "metadata": {},
   "source": [
    "# Torch Begin - pytorch tensors & numpy\n",
    "##### step two,getting start on numpy and GPU processing\n"
   ]
  },
  {
   "cell_type": "markdown",
   "metadata": {},
   "source": [
    "## Numpy\n",
    "numerical computing library for python,its numerical ability allow it to work with other machine learning library/ such as pytorch"
   ]
  },
  {
   "cell_type": "code",
   "execution_count": 1,
   "metadata": {},
   "outputs": [
    {
     "data": {
      "text/plain": [
       "(array([1., 2., 3., 4., 5., 6., 7.]),\n",
       " tensor([1., 2., 3., 4., 5., 6., 7.], dtype=torch.float64))"
      ]
     },
     "execution_count": 1,
     "metadata": {},
     "output_type": "execute_result"
    }
   ],
   "source": [
    "#numpy array to tensor\n",
    "import numpy as np\n",
    "import torch\n",
    "arrii = np.arange(1,8)#type int32\n",
    "arr = np.arange(1.0,8.0) #type float 64\n",
    "tensor = torch.from_numpy(arr)\n",
    "arr , tensor"
   ]
  },
  {
   "cell_type": "code",
   "execution_count": 2,
   "metadata": {},
   "outputs": [
    {
     "data": {
      "text/plain": [
       "(dtype('int32'), dtype('float64'))"
      ]
     },
     "execution_count": 2,
     "metadata": {},
     "output_type": "execute_result"
    }
   ],
   "source": [
    "#printing array type\n",
    "arrii.dtype,arr.dtype"
   ]
  },
  {
   "cell_type": "code",
   "execution_count": 3,
   "metadata": {},
   "outputs": [
    {
     "data": {
      "text/plain": [
       "(torch.int64, torch.float32)"
      ]
     },
     "execution_count": 3,
     "metadata": {},
     "output_type": "execute_result"
    }
   ],
   "source": [
    "torch.arange(1,8).dtype ,torch.arange(1.0,8.0).dtype #torch aramge default type is 64"
   ]
  },
  {
   "cell_type": "code",
   "execution_count": 4,
   "metadata": {},
   "outputs": [
    {
     "data": {
      "text/plain": [
       "(array([2., 3., 4., 5., 6., 7., 8.]),\n",
       " tensor([1., 2., 3., 4., 5., 6., 7.], dtype=torch.float64))"
      ]
     },
     "execution_count": 4,
     "metadata": {},
     "output_type": "execute_result"
    }
   ],
   "source": [
    "arr = arr + 1 #plus one to all index\n",
    "arr , tensor"
   ]
  },
  {
   "cell_type": "code",
   "execution_count": 5,
   "metadata": {},
   "outputs": [
    {
     "data": {
      "text/plain": [
       "(tensor([1., 1., 1., 1., 1., 1., 1.]),\n",
       " array([1., 1., 1., 1., 1., 1., 1.], dtype=float32))"
      ]
     },
     "execution_count": 5,
     "metadata": {},
     "output_type": "execute_result"
    }
   ],
   "source": [
    "#tensor to numpy array\n",
    "tensor = torch.ones(7)\n",
    "np_tensor = tensor.numpy()\n",
    "tensor,np_tensor "
   ]
  },
  {
   "cell_type": "code",
   "execution_count": 6,
   "metadata": {},
   "outputs": [
    {
     "data": {
      "text/plain": [
       "(tensor([2., 2., 2., 2., 2., 2., 2.]),\n",
       " array([1., 1., 1., 1., 1., 1., 1.], dtype=float32))"
      ]
     },
     "execution_count": 6,
     "metadata": {},
     "output_type": "execute_result"
    }
   ],
   "source": [
    "#plus 1 to tensor\n",
    "tensor = tensor + 1\n",
    "tensor,np_tensor"
   ]
  },
  {
   "cell_type": "markdown",
   "metadata": {},
   "source": [
    "## torch reproducibility - taking random out of random\n",
    "this is a gist of how neural network works:\n",
    "\n",
    "start with random number --> tensor operation --> update those random stuff to make it represent more of the data -> repeat -> repeat...\n",
    "\n",
    "fucking apparently computer's \"randomness\" is argubly not truly random\n",
    "\n",
    "so to reduce the randomness in pytorch there come a concept of \"random seed\" which \"flavor\" the randomness\n"
   ]
  },
  {
   "cell_type": "code",
   "execution_count": 7,
   "metadata": {},
   "outputs": [
    {
     "data": {
      "text/plain": [
       "tensor([[0.8811, 0.9944, 0.9874],\n",
       "        [0.8854, 0.9806, 0.1087],\n",
       "        [0.9786, 0.7961, 0.7387]])"
      ]
     },
     "execution_count": 7,
     "metadata": {},
     "output_type": "execute_result"
    }
   ],
   "source": [
    "import torch\n",
    "torch.rand(3,3) #random a 3x3 tensor"
   ]
  },
  {
   "cell_type": "code",
   "execution_count": 8,
   "metadata": {},
   "outputs": [
    {
     "name": "stdout",
     "output_type": "stream",
     "text": [
      "tensor([[0.5612, 0.6802, 0.4591, 0.1222],\n",
      "        [0.8716, 0.2549, 0.1810, 0.7583],\n",
      "        [0.0127, 0.8528, 0.9200, 0.3016]])\n",
      "tensor([[0.5672, 0.2182, 0.7393, 0.6923],\n",
      "        [0.5708, 0.9077, 0.7581, 0.0579],\n",
      "        [0.7747, 0.2221, 0.4463, 0.8722]])\n",
      "tensor([[False, False, False, False],\n",
      "        [False, False, False, False],\n",
      "        [False, False, False, False]])\n"
     ]
    }
   ],
   "source": [
    "import torch\n",
    "#create random tensor \n",
    "rngA = torch.rand(3,4)\n",
    "rngB = torch.rand(3,4)\n",
    "print(rngA)\n",
    "print(rngB)\n",
    "print(rngA == rngB)\n",
    "#its very likely that every index of rng a and b will not be the same due to the randomness"
   ]
  },
  {
   "cell_type": "code",
   "execution_count": 9,
   "metadata": {},
   "outputs": [
    {
     "name": "stdout",
     "output_type": "stream",
     "text": [
      "tensor([[0.3659, 0.7025, 0.3104, 0.0097],\n",
      "        [0.6577, 0.1947, 0.9506, 0.6887],\n",
      "        [0.8174, 0.7575, 0.7492, 0.6874]])\n",
      "tensor([[0.3659, 0.7025, 0.3104, 0.0097],\n",
      "        [0.6577, 0.1947, 0.9506, 0.6887],\n",
      "        [0.8174, 0.7575, 0.7492, 0.6874]])\n",
      "tensor([[True, True, True, True],\n",
      "        [True, True, True, True],\n",
      "        [True, True, True, True]])\n"
     ]
    }
   ],
   "source": [
    "randomSeed = 22\n",
    "torch.manual_seed(randomSeed)#set the manual seed before random round 1\n",
    "randomTensor = torch.rand(3,4)\n",
    "\n",
    "torch.manual_seed(randomSeed)#set the manual seed before random round 1\n",
    "randomTensorB = torch.rand(3,4)\n",
    "\n",
    "print(randomTensor)\n",
    "print(randomTensorB)\n",
    "print(randomTensor == randomTensorB)\n",
    "#same seed,same results\n",
    "#results may not be the same with different CPU/GPU"
   ]
  },
  {
   "cell_type": "markdown",
   "metadata": {},
   "source": [
    "more on randomness at: https://pytorch.org/docs/stable/notes/randomness.html\n",
    "https://en.wikipedia.org/wiki/Random_seed"
   ]
  },
  {
   "cell_type": "markdown",
   "metadata": {},
   "source": [
    "## running tensor/PyTorch on GPU\n",
    "gpu make number computation easier and faster thanks to CUDA + nvidia hardware\n",
    "\n",
    "- method 1: use google collab for free gpu processing\n",
    "- method 2:use your own GPU\n",
    "- method 3:use cloud computing (ex: azure AWS GCP) allow computer renting\n",
    "\n",
    "for 2 and 3 pytorch +gpu driver take a while to set up CUDA\n",
    "- for torch setup https://pytorch.org/get-started/locally/\n"
   ]
  },
  {
   "cell_type": "code",
   "execution_count": 10,
   "metadata": {},
   "outputs": [
    {
     "name": "stdout",
     "output_type": "stream",
     "text": [
      "Tue Nov 28 21:35:44 2023       \n",
      "+---------------------------------------------------------------------------------------+\n",
      "| NVIDIA-SMI 537.13                 Driver Version: 537.13       CUDA Version: 12.2     |\n",
      "|-----------------------------------------+----------------------+----------------------+\n",
      "| GPU  Name                     TCC/WDDM  | Bus-Id        Disp.A | Volatile Uncorr. ECC |\n",
      "| Fan  Temp   Perf          Pwr:Usage/Cap |         Memory-Usage | GPU-Util  Compute M. |\n",
      "|                                         |                      |               MIG M. |\n",
      "|=========================================+======================+======================|\n",
      "|   0  NVIDIA GeForce GTX 1060 6GB  WDDM  | 00000000:01:00.0  On |                  N/A |\n",
      "|  0%   46C    P8              10W / 120W |   1178MiB /  6144MiB |     17%      Default |\n",
      "|                                         |                      |                  N/A |\n",
      "+-----------------------------------------+----------------------+----------------------+\n",
      "                                                                                         \n",
      "+---------------------------------------------------------------------------------------+\n",
      "| Processes:                                                                            |\n",
      "|  GPU   GI   CI        PID   Type   Process name                            GPU Memory |\n",
      "|        ID   ID                                                             Usage      |\n",
      "|=======================================================================================|\n",
      "|    0   N/A  N/A      2516    C+G   ...al\\Discord\\app-1.0.9024\\Discord.exe    N/A      |\n",
      "|    0   N/A  N/A      4344    C+G   ...US\\ArmouryDevice\\asus_framework.exe    N/A      |\n",
      "|    0   N/A  N/A      4564    C+G   ...ne\\Binaries\\Win64\\EpicWebHelper.exe    N/A      |\n",
      "|    0   N/A  N/A      4764    C+G   ...l\\Microsoft\\Teams\\current\\Teams.exe    N/A      |\n",
      "|    0   N/A  N/A      5052    C+G   ...ata\\Local\\LINE\\bin\\current\\LINE.exe    N/A      |\n",
      "|    0   N/A  N/A      6072    C+G   ...64__v826wp6bftszj\\TranslucentTB.exe    N/A      |\n",
      "|    0   N/A  N/A      6972    C+G   ...2txyewy\\StartMenuExperienceHost.exe    N/A      |\n",
      "|    0   N/A  N/A      8040    C+G   ...al\\Programs\\Messenger\\Messenger.exe    N/A      |\n",
      "|    0   N/A  N/A     10784    C+G   ...a\\Local\\Programs\\Opera GX\\opera.exe    N/A      |\n",
      "|    0   N/A  N/A     11048    C+G   ...AppData\\Roaming\\Spotify\\Spotify.exe    N/A      |\n",
      "|    0   N/A  N/A     11164    C+G   ...les\\Microsoft OneDrive\\OneDrive.exe    N/A      |\n",
      "|    0   N/A  N/A     12312    C+G   ...on\\wallpaper_engine\\wallpaper32.exe    N/A      |\n",
      "|    0   N/A  N/A     12996    C+G   ...GeForce Experience\\NVIDIA Share.exe    N/A      |\n",
      "|    0   N/A  N/A     13440    C+G   ...inaries\\Win64\\EpicGamesLauncher.exe    N/A      |\n",
      "|    0   N/A  N/A     13448    C+G   C:\\Windows\\explorer.exe                   N/A      |\n",
      "|    0   N/A  N/A     13624    C+G   ...GeForce Experience\\NVIDIA Share.exe    N/A      |\n",
      "|    0   N/A  N/A     15404    C+G   ...cks-services\\BlueStacksServices.exe    N/A      |\n",
      "|    0   N/A  N/A     16220    C+G   ...on\\119.0.2151.72\\msedgewebview2.exe    N/A      |\n",
      "|    0   N/A  N/A     16916    C+G   ...siveControlPanel\\SystemSettings.exe    N/A      |\n",
      "|    0   N/A  N/A     17120    C+G   ...l\\Microsoft\\Teams\\current\\Teams.exe    N/A      |\n",
      "|    0   N/A  N/A     18868    C+G   ...gin\\LineCall\\1.0.0.696\\LineCall.exe    N/A      |\n",
      "|    0   N/A  N/A     19212    C+G   ...5n1h2txyewy\\ShellExperienceHost.exe    N/A      |\n",
      "|    0   N/A  N/A     19628    C+G   ...\\Local\\slack\\app-4.35.126\\slack.exe    N/A      |\n",
      "|    0   N/A  N/A     20260    C+G   ...4627_x64__8wekyb3d8bbwe\\msteams.exe    N/A      |\n",
      "|    0   N/A  N/A     21284    C+G   ...crosoft\\Edge\\Application\\msedge.exe    N/A      |\n",
      "|    0   N/A  N/A     21376    C+G   ...\\cef\\cef.win7x64\\steamwebhelper.exe    N/A      |\n",
      "|    0   N/A  N/A     22592    C+G   ...CBS_cw5n1h2txyewy\\TextInputHost.exe    N/A      |\n",
      "|    0   N/A  N/A     23460    C+G   ...nt.CBS_cw5n1h2txyewy\\SearchHost.exe    N/A      |\n",
      "|    0   N/A  N/A     24616    C+G   ...Desktop\\app-3.3.5\\GitHubDesktop.exe    N/A      |\n",
      "|    0   N/A  N/A     25104    C+G   ...Programs\\Microsoft VS Code\\Code.exe    N/A      |\n",
      "+---------------------------------------------------------------------------------------+\n"
     ]
    }
   ],
   "source": [
    "#check nvidia gpu\n",
    "!nvidia-smi"
   ]
  },
  {
   "cell_type": "code",
   "execution_count": 1,
   "metadata": {},
   "outputs": [
    {
     "data": {
      "text/plain": [
       "True"
      ]
     },
     "execution_count": 1,
     "metadata": {},
     "output_type": "execute_result"
    }
   ],
   "source": [
    "#check gpu access with pytorch\n",
    "import torch \n",
    "torch.cuda.is_available()"
   ]
  },
  {
   "cell_type": "code",
   "execution_count": 13,
   "metadata": {},
   "outputs": [
    {
     "data": {
      "text/plain": [
       "'cuda'"
      ]
     },
     "execution_count": 13,
     "metadata": {},
     "output_type": "execute_result"
    }
   ],
   "source": [
    "#set to cuda if possible\n",
    "device = 'cuda' if torch.cuda.is_available() else 'cpu'\n",
    "device"
   ]
  },
  {
   "cell_type": "code",
   "execution_count": 2,
   "metadata": {},
   "outputs": [
    {
     "data": {
      "text/plain": [
       "1"
      ]
     },
     "execution_count": 2,
     "metadata": {},
     "output_type": "execute_result"
    }
   ],
   "source": [
    "#check cuda device count\n",
    "torch.cuda.device_count()"
   ]
  },
  {
   "cell_type": "markdown",
   "metadata": {},
   "source": [
    "running tensors on gpu"
   ]
  },
  {
   "cell_type": "code",
   "execution_count": 10,
   "metadata": {},
   "outputs": [
    {
     "name": "stdout",
     "output_type": "stream",
     "text": [
      "tensor([1, 2, 3]) cpu\n"
     ]
    }
   ],
   "source": [
    "#on normal\n",
    "tensor = torch.tensor([1,2,3])\n",
    "print(tensor,tensor.device)\n",
    "#will output 'tensor([1, 2, 3]) cpu' cuz tensor default to use cpu"
   ]
  },
  {
   "cell_type": "code",
   "execution_count": 12,
   "metadata": {},
   "outputs": [
    {
     "data": {
      "text/plain": [
       "tensor([1, 2, 3], device='cuda:0')"
      ]
     },
     "execution_count": 12,
     "metadata": {},
     "output_type": "execute_result"
    }
   ],
   "source": [
    "#run on gpu if available\n",
    "ten_on_GPU = tensor.to(device)\n",
    "ten_on_GPU"
   ]
  },
  {
   "cell_type": "markdown",
   "metadata": {},
   "source": [
    "#Pytorch\n"
   ]
  },
  {
   "cell_type": "markdown",
   "metadata": {},
   "source": []
  }
 ],
 "metadata": {
  "kernelspec": {
   "display_name": "DeepLearning",
   "language": "python",
   "name": "python3"
  },
  "language_info": {
   "codemirror_mode": {
    "name": "ipython",
    "version": 3
   },
   "file_extension": ".py",
   "mimetype": "text/x-python",
   "name": "python",
   "nbconvert_exporter": "python",
   "pygments_lexer": "ipython3",
   "version": "3.11.5"
  },
  "orig_nbformat": 4
 },
 "nbformat": 4,
 "nbformat_minor": 2
}
