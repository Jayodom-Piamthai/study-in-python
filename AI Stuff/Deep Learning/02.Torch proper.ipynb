{
 "cells": [
  {
   "cell_type": "markdown",
   "metadata": {},
   "source": [
    "# Torch Proper - pytorch tensors & numpy\n",
    "##### aw f*ck yea,we finally getting into it\n",
    "\n",
    "- Numpy : numerical computing library for python,its numerical ability allow it to work with other machine learning library/ such as pytorch"
   ]
  },
  {
   "cell_type": "code",
   "execution_count": 4,
   "metadata": {},
   "outputs": [
    {
     "data": {
      "text/plain": [
       "(array([1., 2., 3., 4., 5., 6., 7.]),\n",
       " tensor([1., 2., 3., 4., 5., 6., 7.], dtype=torch.float64))"
      ]
     },
     "execution_count": 4,
     "metadata": {},
     "output_type": "execute_result"
    }
   ],
   "source": [
    "#numpy array to tensor\n",
    "import numpy as np\n",
    "import torch\n",
    "arrii = np.arange(1,8)#type int32\n",
    "arr = np.arange(1.0,8.0) #type float 64\n",
    "tensor = torch.from_numpy(arr)\n",
    "arr , tensor"
   ]
  },
  {
   "cell_type": "code",
   "execution_count": 5,
   "metadata": {},
   "outputs": [
    {
     "data": {
      "text/plain": [
       "(dtype('int32'), dtype('float64'))"
      ]
     },
     "execution_count": 5,
     "metadata": {},
     "output_type": "execute_result"
    }
   ],
   "source": [
    "#printing array type\n",
    "arrii.dtype,arr.dtype"
   ]
  },
  {
   "cell_type": "code",
   "execution_count": 6,
   "metadata": {},
   "outputs": [
    {
     "data": {
      "text/plain": [
       "(torch.int64, torch.float32)"
      ]
     },
     "execution_count": 6,
     "metadata": {},
     "output_type": "execute_result"
    }
   ],
   "source": [
    "torch.arange(1,8).dtype ,torch.arange(1.0,8.0).dtype #torch aramge default type is 64"
   ]
  },
  {
   "cell_type": "code",
   "execution_count": 7,
   "metadata": {},
   "outputs": [
    {
     "data": {
      "text/plain": [
       "(array([2., 3., 4., 5., 6., 7., 8.]),\n",
       " tensor([1., 2., 3., 4., 5., 6., 7.], dtype=torch.float64))"
      ]
     },
     "execution_count": 7,
     "metadata": {},
     "output_type": "execute_result"
    }
   ],
   "source": [
    "arr = arr + 1 #plus one to all index\n",
    "arr , tensor"
   ]
  },
  {
   "cell_type": "code",
   "execution_count": 8,
   "metadata": {},
   "outputs": [
    {
     "data": {
      "text/plain": [
       "(tensor([1., 1., 1., 1., 1., 1., 1.]),\n",
       " array([1., 1., 1., 1., 1., 1., 1.], dtype=float32))"
      ]
     },
     "execution_count": 8,
     "metadata": {},
     "output_type": "execute_result"
    }
   ],
   "source": [
    "#tensor to numpy array\n",
    "tensor = torch.ones(7)\n",
    "np_tensor = tensor.numpy()\n",
    "tensor,np_tensor "
   ]
  },
  {
   "cell_type": "code",
   "execution_count": 9,
   "metadata": {},
   "outputs": [
    {
     "data": {
      "text/plain": [
       "(tensor([2., 2., 2., 2., 2., 2., 2.]),\n",
       " array([1., 1., 1., 1., 1., 1., 1.], dtype=float32))"
      ]
     },
     "execution_count": 9,
     "metadata": {},
     "output_type": "execute_result"
    }
   ],
   "source": [
    "#plus 1 to tensor\n",
    "tensor = tensor + 1\n",
    "tensor,np_tensor"
   ]
  },
  {
   "cell_type": "markdown",
   "metadata": {},
   "source": [
    "## torch reproducibility - taking random out of random\n",
    "this is a gist of how neural network works:\n",
    "\n",
    "start with random number --> tensor operation --> update those random stuff to make it represent more of the data -> repeat -> repeat...\n",
    "\n",
    "fucking apparently computer's \"randomness\" is argubly not truly random\n",
    "\n",
    "so to reduce the randomness in pytorch there come a concept of \"random seed\" which \"flavor\" the randomness\n"
   ]
  },
  {
   "cell_type": "code",
   "execution_count": 10,
   "metadata": {},
   "outputs": [
    {
     "data": {
      "text/plain": [
       "tensor([[0.9440, 0.4796, 0.3332],\n",
       "        [0.6292, 0.7962, 0.9049],\n",
       "        [0.4418, 0.1263, 0.0071]])"
      ]
     },
     "execution_count": 10,
     "metadata": {},
     "output_type": "execute_result"
    }
   ],
   "source": [
    "import torch\n",
    "torch.rand(3,3) #random a 3x3 tensor"
   ]
  },
  {
   "cell_type": "code",
   "execution_count": 11,
   "metadata": {},
   "outputs": [
    {
     "name": "stdout",
     "output_type": "stream",
     "text": [
      "tensor([[0.4443, 0.5227, 0.4404, 0.2921],\n",
      "        [0.7552, 0.8396, 0.8644, 0.6170],\n",
      "        [0.9059, 0.9495, 0.0717, 0.5362]])\n",
      "tensor([[0.9253, 0.3513, 0.5336, 0.5954],\n",
      "        [0.8161, 0.1421, 0.6584, 0.0544],\n",
      "        [0.8033, 0.9795, 0.0807, 0.7856]])\n",
      "tensor([[False, False, False, False],\n",
      "        [False, False, False, False],\n",
      "        [False, False, False, False]])\n"
     ]
    }
   ],
   "source": [
    "import torch\n",
    "#create random tensor \n",
    "rngA = torch.rand(3,4)\n",
    "rngB = torch.rand(3,4)\n",
    "print(rngA)\n",
    "print(rngB)\n",
    "print(rngA == rngB)\n",
    "#its very likely that every index of rng a and b will not be the same due to the randomness"
   ]
  },
  {
   "cell_type": "code",
   "execution_count": 12,
   "metadata": {},
   "outputs": [
    {
     "name": "stdout",
     "output_type": "stream",
     "text": [
      "tensor([[0.3659, 0.7025, 0.3104, 0.0097],\n",
      "        [0.6577, 0.1947, 0.9506, 0.6887],\n",
      "        [0.8174, 0.7575, 0.7492, 0.6874]])\n",
      "tensor([[0.3659, 0.7025, 0.3104, 0.0097],\n",
      "        [0.6577, 0.1947, 0.9506, 0.6887],\n",
      "        [0.8174, 0.7575, 0.7492, 0.6874]])\n",
      "tensor([[True, True, True, True],\n",
      "        [True, True, True, True],\n",
      "        [True, True, True, True]])\n"
     ]
    }
   ],
   "source": [
    "randomSeed = 22\n",
    "torch.manual_seed(randomSeed)#set the manual seed before random round 1\n",
    "randomTensor = torch.rand(3,4)\n",
    "\n",
    "torch.manual_seed(randomSeed)#set the manual seed before random round 1\n",
    "randomTensorB = torch.rand(3,4)\n",
    "\n",
    "print(randomTensor)\n",
    "print(randomTensorB)\n",
    "print(randomTensor == randomTensorB)\n",
    "#same seed,same results\n",
    "#results may not be the same with different CPU/GPU"
   ]
  },
  {
   "cell_type": "markdown",
   "metadata": {},
   "source": [
    "more on randomness at: https://pytorch.org/docs/stable/notes/randomness.html\n",
    "https://en.wikipedia.org/wiki/Random_seed"
   ]
  },
  {
   "cell_type": "markdown",
   "metadata": {},
   "source": [
    "## running tensor/PyTorch on GPU\n",
    "gpu make number computation easier and faster thanks to CUDA + nvidia hardware\n",
    "\n",
    "- method 1: use google collab for free gpu processing\n",
    "- method 2:use your own GPU\n",
    "- method 3:use cloud computing (ex: azure AWS GCP) allow computer renting\n",
    "\n",
    "for 2 and 3 pytorch +gpu driver take a while to set up CUDA\n",
    "- for torch setup https://pytorch.org/get-started/locally/\n"
   ]
  },
  {
   "cell_type": "code",
   "execution_count": 13,
   "metadata": {},
   "outputs": [
    {
     "name": "stdout",
     "output_type": "stream",
     "text": [
      "Thu Sep 14 21:04:23 2023       \n",
      "+---------------------------------------------------------------------------------------+\n",
      "| NVIDIA-SMI 537.13                 Driver Version: 537.13       CUDA Version: 12.2     |\n",
      "|-----------------------------------------+----------------------+----------------------+\n",
      "| GPU  Name                     TCC/WDDM  | Bus-Id        Disp.A | Volatile Uncorr. ECC |\n",
      "| Fan  Temp   Perf          Pwr:Usage/Cap |         Memory-Usage | GPU-Util  Compute M. |\n",
      "|                                         |                      |               MIG M. |\n",
      "|=========================================+======================+======================|\n",
      "|   0  NVIDIA GeForce GTX 1060 6GB  WDDM  | 00000000:01:00.0  On |                  N/A |\n",
      "|  0%   48C    P2              23W / 120W |    957MiB /  6144MiB |      3%      Default |\n",
      "|                                         |                      |                  N/A |\n",
      "+-----------------------------------------+----------------------+----------------------+\n",
      "                                                                                         \n",
      "+---------------------------------------------------------------------------------------+\n",
      "| Processes:                                                                            |\n",
      "|  GPU   GI   CI        PID   Type   Process name                            GPU Memory |\n",
      "|        ID   ID                                                             Usage      |\n",
      "|=======================================================================================|\n",
      "|    0   N/A  N/A      3208    C+G   ...64__v826wp6bftszj\\TranslucentTB.exe    N/A      |\n",
      "|    0   N/A  N/A      3768    C+G   C:\\Windows\\explorer.exe                   N/A      |\n",
      "|    0   N/A  N/A      5380    C+G   ...CBS_cw5n1h2txyewy\\TextInputHost.exe    N/A      |\n",
      "|    0   N/A  N/A      6564    C+G   ...l\\Microsoft\\Teams\\current\\Teams.exe    N/A      |\n",
      "|    0   N/A  N/A      8832    C+G   ...a\\Local\\Programs\\Opera GX\\opera.exe    N/A      |\n",
      "|    0   N/A  N/A      9320    C+G   ...a\\Local\\slack\\app-4.33.90\\slack.exe    N/A      |\n",
      "|    0   N/A  N/A      9408    C+G   ...inaries\\Win64\\EpicGamesLauncher.exe    N/A      |\n",
      "|    0   N/A  N/A     10648    C+G   ...on\\116.0.1938.76\\msedgewebview2.exe    N/A      |\n",
      "|    0   N/A  N/A     11088    C+G   ...al\\Discord\\app-1.0.9017\\Discord.exe    N/A      |\n",
      "|    0   N/A  N/A     12672    C+G   ...les\\Microsoft OneDrive\\OneDrive.exe    N/A      |\n",
      "|    0   N/A  N/A     14236    C+G   ...cks-services\\BlueStacksServices.exe    N/A      |\n",
      "|    0   N/A  N/A     14416    C+G   ...on\\116.0.1938.76\\msedgewebview2.exe    N/A      |\n",
      "|    0   N/A  N/A     15060    C+G   ...crosoft\\Edge\\Application\\msedge.exe    N/A      |\n",
      "|    0   N/A  N/A     15200    C+G   ...Programs\\Microsoft VS Code\\Code.exe    N/A      |\n",
      "|    0   N/A  N/A     15440    C+G   ...on\\wallpaper_engine\\wallpaper32.exe    N/A      |\n",
      "|    0   N/A  N/A     17144    C+G   ...\\cef\\cef.win7x64\\steamwebhelper.exe    N/A      |\n",
      "|    0   N/A  N/A     17608    C+G   ...GeForce Experience\\NVIDIA Share.exe    N/A      |\n",
      "|    0   N/A  N/A     18160    C+G   ...nt.CBS_cw5n1h2txyewy\\SearchHost.exe    N/A      |\n",
      "|    0   N/A  N/A     18232    C+G   ...l\\Microsoft\\Teams\\current\\Teams.exe    N/A      |\n",
      "|    0   N/A  N/A     18748    C+G   ...gin\\LineCall\\1.0.0.692\\LineCall.exe    N/A      |\n",
      "|    0   N/A  N/A     18844    C+G   ...ata\\Local\\LINE\\bin\\current\\LINE.exe    N/A      |\n",
      "|    0   N/A  N/A     18928    C+G   ...5n1h2txyewy\\ShellExperienceHost.exe    N/A      |\n",
      "|    0   N/A  N/A     22820    C+G   ...2txyewy\\StartMenuExperienceHost.exe    N/A      |\n",
      "|    0   N/A  N/A     22928    C+G   ...ne\\Binaries\\Win64\\EpicWebHelper.exe    N/A      |\n",
      "+---------------------------------------------------------------------------------------+\n"
     ]
    }
   ],
   "source": [
    "!nvidia-smi"
   ]
  },
  {
   "cell_type": "code",
   "execution_count": 14,
   "metadata": {},
   "outputs": [
    {
     "data": {
      "text/plain": [
       "True"
      ]
     },
     "execution_count": 14,
     "metadata": {},
     "output_type": "execute_result"
    }
   ],
   "source": [
    "#check gpu access with pytorch\n",
    "import torch \n",
    "torch.cuda.is_available()"
   ]
  }
 ],
 "metadata": {
  "kernelspec": {
   "display_name": "DeepLearning",
   "language": "python",
   "name": "python3"
  },
  "language_info": {
   "codemirror_mode": {
    "name": "ipython",
    "version": 3
   },
   "file_extension": ".py",
   "mimetype": "text/x-python",
   "name": "python",
   "nbconvert_exporter": "python",
   "pygments_lexer": "ipython3",
   "version": "3.11.5"
  },
  "orig_nbformat": 4
 },
 "nbformat": 4,
 "nbformat_minor": 2
}
