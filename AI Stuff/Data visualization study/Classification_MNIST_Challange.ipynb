{
  "nbformat": 4,
  "nbformat_minor": 0,
  "metadata": {
    "kernelspec": {
      "display_name": "Python 3",
      "language": "python",
      "name": "python3"
    },
    "language_info": {
      "codemirror_mode": {
        "name": "ipython",
        "version": 3
      },
      "file_extension": ".py",
      "mimetype": "text/x-python",
      "name": "python",
      "nbconvert_exporter": "python",
      "pygments_lexer": "ipython3",
      "version": "3.8.3"
    },
    "colab": {
      "name": "Classification_MNIST_Challange.ipynb",
      "provenance": []
    }
  },
  "cells": [
    {
      "cell_type": "markdown",
      "metadata": {
        "id": "gmKs6ly_a9HR"
      },
      "source": [
        "---\n",
        "# ทดลองทำ Classification กับชุดข้อมูล MNIST\n",
        "\n",
        "---"
      ]
    },
    {
      "cell_type": "markdown",
      "metadata": {
        "id": "0yPPbRvZa9Ha"
      },
      "source": [
        "จาก Library sklearn (หรือ scikit learn) เราจะเรียกใช้ datasets\n",
        "\n",
        "*   นำเข้าข้อมูล (Load Dataset) : ในที่นี้ใช้ข้อมูล \"Load_digits\" ที่มีอยู่ใน sklearn"
      ]
    },
    {
      "cell_type": "code",
      "metadata": {
        "id": "ifdl3Veha9Hb"
      },
      "source": [
        "from sklearn import datasets\n",
        "\n",
        "digits = datasets.load_digits()"
      ],
      "execution_count": 1,
      "outputs": []
    },
    {
      "cell_type": "markdown",
      "metadata": {
        "id": "awPBgIWXa9Hc"
      },
      "source": [
        "ทำการเก็บข้อมูล Features ต่าง ๆ ไว้ที่ตัวแปร X .. และ เก็บข้อมูล Target ไว้ที่ตัวแปร y"
      ]
    },
    {
      "cell_type": "code",
      "metadata": {
        "colab": {
          "base_uri": "https://localhost:8080/"
        },
        "id": "JqJFUAFia9Hc",
        "outputId": "5f47adca-45a7-4065-e5eb-57413e230dc4"
      },
      "source": [
        "X = digits.data\n",
        "y = digits.target\n",
        "\n",
        "# print (digits.feature_names)\n",
        "print (digits.target_names)"
      ],
      "execution_count": 2,
      "outputs": [
        {
          "output_type": "stream",
          "text": [
            "[0 1 2 3 4 5 6 7 8 9]\n"
          ],
          "name": "stdout"
        }
      ]
    },
    {
      "cell_type": "markdown",
      "metadata": {
        "id": "Svl5-YIta9Hd"
      },
      "source": [
        "แสดงตัวอย่างรูปภาพ ที่เก็บในตัวแปร X[0]"
      ]
    },
    {
      "cell_type": "code",
      "metadata": {
        "colab": {
          "base_uri": "https://localhost:8080/"
        },
        "id": "xjsDClWma9Hd",
        "outputId": "eb02b7d9-f87c-45c7-864b-9c8020a07da9"
      },
      "source": [
        "print (X[0])"
      ],
      "execution_count": 3,
      "outputs": [
        {
          "output_type": "stream",
          "text": [
            "[ 0.  0.  5. 13.  9.  1.  0.  0.  0.  0. 13. 15. 10. 15.  5.  0.  0.  3.\n",
            " 15.  2.  0. 11.  8.  0.  0.  4. 12.  0.  0.  8.  8.  0.  0.  5.  8.  0.\n",
            "  0.  9.  8.  0.  0.  4. 11.  0.  1. 12.  7.  0.  0.  2. 14.  5. 10. 12.\n",
            "  0.  0.  0.  0.  6. 13. 10.  0.  0.  0.]\n"
          ],
          "name": "stdout"
        }
      ]
    },
    {
      "cell_type": "code",
      "metadata": {
        "colab": {
          "base_uri": "https://localhost:8080/",
          "height": 265
        },
        "id": "2Y_M_XPKa9He",
        "outputId": "15607398-75e6-4e8a-aff9-add53020f596"
      },
      "source": [
        "import matplotlib.pyplot as plt\n",
        "import numpy as np\n",
        "\n",
        "plt.imshow(np.reshape(X[0], (8,8)), cmap=plt.cm.gray)\n",
        "plt.show()"
      ],
      "execution_count": 4,
      "outputs": [
        {
          "output_type": "display_data",
          "data": {
            "image/png": "[encoded data removed]",
            "text/plain": [
              "<Figure size 432x288 with 1 Axes>"
            ]
          },
          "metadata": {
            "tags": [],
            "needs_background": "light"
          }
        }
      ]
    },
    {
      "cell_type": "markdown",
      "metadata": {
        "id": "1e-WEdIja9He"
      },
      "source": [
        "แสดงผลข้อมูล ในหมวดหมู่ (ตัวเลข) ที่ต่าง ๆ กัน"
      ]
    },
    {
      "cell_type": "code",
      "metadata": {
        "id": "d9631Hgqa9Hf"
      },
      "source": [
        "import matplotlib.pyplot as plt\n",
        "import numpy as np"
      ],
      "execution_count": 5,
      "outputs": []
    },
    {
      "cell_type": "code",
      "metadata": {
        "colab": {
          "base_uri": "https://localhost:8080/",
          "height": 174
        },
        "id": "VeZ_59aqa9Hf",
        "outputId": "b6e2107c-8065-47a4-c5da-be26283c9ceb"
      },
      "source": [
        "plt.figure(figsize=(18,8))\n",
        "for index, (image, label) in enumerate(zip(X[0:10], y[0:10])):\n",
        "    plt.subplot(1, 10, index + 1)\n",
        "    plt.imshow(np.reshape(image, (8,8)), cmap=plt.cm.gray)\n",
        "    plt.title('%i\\n' % label, fontsize = 18)"
      ],
      "execution_count": 6,
      "outputs": [
        {
          "output_type": "display_data",
          "data": {
            "image/png": "[encoded data removed]",
            "text/plain": [
              "<Figure size 1296x576 with 10 Axes>"
            ]
          },
          "metadata": {
            "tags": [],
            "needs_background": "light"
          }
        }
      ]
    },
    {
      "cell_type": "code",
      "metadata": {
        "colab": {
          "base_uri": "https://localhost:8080/",
          "height": 174
        },
        "id": "nXwyv8CNa9Hf",
        "outputId": "d08431a0-dd00-422b-cf28-8bfb0a3a46fd"
      },
      "source": [
        "plt.figure(figsize=(18,8))\n",
        "for index, (image, label) in enumerate(zip(X[0:10], y[0:10])):\n",
        "    plt.subplot(1, 10, index + 1)\n",
        "    plt.imshow(np.reshape(image, (8,8)), cmap=plt.cm.viridis)\n",
        "    plt.title('%i\\n' % label, fontsize = 18)\n"
      ],
      "execution_count": 7,
      "outputs": [
        {
          "output_type": "display_data",
          "data": {
            "image/png": "[encoded data removed]",
            "text/plain": [
              "<Figure size 1296x576 with 10 Axes>"
            ]
          },
          "metadata": {
            "tags": [],
            "needs_background": "light"
          }
        }
      ]
    },
    {
      "cell_type": "markdown",
      "metadata": {
        "id": "5l11mFTla9Hg"
      },
      "source": [
        "---\n",
        "เริ่มขั้นตอนการสร้าง (Train) / ทดสอบ (Test) Model\n",
        "\n",
        "\n",
        "---"
      ]
    },
    {
      "cell_type": "markdown",
      "metadata": {
        "id": "orG7aURja9Hg"
      },
      "source": [
        "จาก Library sklearn\n",
        "\n",
        "* เรียกใช้งาน Logistic Regression (Algorithm สำหรับการ Classification) ซึ่งอยู่ใน Linear Model\n",
        "* เรียกใช้งาน train / test split (การแบ่งข้อมูล train / test) ซึ่งอยู่ใน model selection"
      ]
    },
    {
      "cell_type": "code",
      "metadata": {
        "id": "chlOfEU_a9Hh"
      },
      "source": [
        "from sklearn.linear_model import LogisticRegression\n",
        "from sklearn.model_selection import train_test_split"
      ],
      "execution_count": 8,
      "outputs": []
    },
    {
      "cell_type": "markdown",
      "metadata": {
        "id": "Sv9Hf3iba9Hh"
      },
      "source": [
        "* ทำการแบ่งข้อมูล train (ใช้สร้าง Model) / test (ใช้ทดสอบ Model)\n",
        "* สามารถกำหนด test size ได้ (ค่า test_size = 0.25 หมายถึง 25% เป็นข้อมูล test)"
      ]
    },
    {
      "cell_type": "code",
      "metadata": {
        "id": "ZUge8ofda9Hh"
      },
      "source": [
        "X_train, X_test, y_train, y_test = train_test_split(X, y, test_size=0.25, random_state=0)"
      ],
      "execution_count": 9,
      "outputs": []
    },
    {
      "cell_type": "markdown",
      "metadata": {
        "id": "8v4ramn_a9Hi"
      },
      "source": [
        "* เพื่อดูขนาดของข้อมูล train และ ข้อมูล test"
      ]
    },
    {
      "cell_type": "code",
      "metadata": {
        "colab": {
          "base_uri": "https://localhost:8080/"
        },
        "id": "UaBRSn1Ka9Hj",
        "outputId": "ce821705-42cc-4654-aa4f-5ce8f6060f36"
      },
      "source": [
        "print (X_train.shape)\n",
        "print (X_test.shape)"
      ],
      "execution_count": 10,
      "outputs": [
        {
          "output_type": "stream",
          "text": [
            "(1347, 64)\n",
            "(450, 64)\n"
          ],
          "name": "stdout"
        }
      ]
    },
    {
      "cell_type": "markdown",
      "metadata": {
        "id": "TQT0QjW0EpFl"
      },
      "source": [
        "# กำหนด Support Vector Machine (SVM) Model ในชื่อตัวแปร \"Classifier\"\n",
        "\n",
        "* เรียกใช้ SVM จาก Sklearn\n",
        "* ใช้ค่า Gamma = 0.001\n",
        "* ทำการ Train model ด้วยข้อมูล X_train, y_train"
      ]
    },
    {
      "cell_type": "code",
      "metadata": {
        "id": "Ujp6m62ya9Hk"
      },
      "source": [
        "from sklearn import svm\n",
        "\n",
        "classifier = svm.SVC(gamma=0.001)"
      ],
      "execution_count": 11,
      "outputs": []
    },
    {
      "cell_type": "code",
      "metadata": {
        "colab": {
          "base_uri": "https://localhost:8080/"
        },
        "id": "RRH9eQwQa9Hk",
        "outputId": "0ac571dc-fec4-49b0-9d0b-f696bc8b5141"
      },
      "source": [
        "classifier.fit(X_train, y_train)"
      ],
      "execution_count": 12,
      "outputs": [
        {
          "output_type": "execute_result",
          "data": {
            "text/plain": [
              "SVC(C=1.0, break_ties=False, cache_size=200, class_weight=None, coef0=0.0,\n",
              "    decision_function_shape='ovr', degree=3, gamma=0.001, kernel='rbf',\n",
              "    max_iter=-1, probability=False, random_state=None, shrinking=True,\n",
              "    tol=0.001, verbose=False)"
            ]
          },
          "metadata": {
            "tags": []
          },
          "execution_count": 12
        }
      ]
    },
    {
      "cell_type": "markdown",
      "metadata": {
        "id": "g7rWps9Fa9Hl"
      },
      "source": [
        "# วัดประสิทธิภาพของ Model โดยใช้ข้อมูล X_test, y_test .."
      ]
    },
    {
      "cell_type": "markdown",
      "metadata": {
        "id": "TFzjgk6ma9Hl"
      },
      "source": [
        "* พิจารณาจากค่า Accuracy "
      ]
    },
    {
      "cell_type": "code",
      "metadata": {
        "id": "AZnOfDjKa9Hl"
      },
      "source": [
        "y_pred = classifier.predict(X_test) "
      ],
      "execution_count": 13,
      "outputs": []
    },
    {
      "cell_type": "code",
      "metadata": {
        "colab": {
          "base_uri": "https://localhost:8080/"
        },
        "id": "ALF1FTONa9Hl",
        "outputId": "78e11368-f4ad-47e7-e5e9-e72ab02cc299"
      },
      "source": [
        "score = classifier .score(X_test, y_test)\n",
        "score = round(score*100, 2)\n",
        "print('Accuracy =', score)"
      ],
      "execution_count": 14,
      "outputs": [
        {
          "output_type": "stream",
          "text": [
            "Accuracy = 99.56\n"
          ],
          "name": "stdout"
        }
      ]
    },
    {
      "cell_type": "markdown",
      "metadata": {
        "id": "fn7htYKIa9Hm"
      },
      "source": [
        "* พิจารณาจากค่า Confusion Matrix"
      ]
    },
    {
      "cell_type": "code",
      "metadata": {
        "colab": {
          "base_uri": "https://localhost:8080/"
        },
        "id": "UD4OEEoEa9Hm",
        "outputId": "d5106996-7c97-420c-e6ba-a05f61d92865"
      },
      "source": [
        "from sklearn.metrics import confusion_matrix\n",
        "\n",
        "confusion_matrix(y_test, y_pred)"
      ],
      "execution_count": 15,
      "outputs": [
        {
          "output_type": "execute_result",
          "data": {
            "text/plain": [
              "array([[37,  0,  0,  0,  0,  0,  0,  0,  0,  0],\n",
              "       [ 0, 43,  0,  0,  0,  0,  0,  0,  0,  0],\n",
              "       [ 0,  0, 44,  0,  0,  0,  0,  0,  0,  0],\n",
              "       [ 0,  0,  0, 45,  0,  0,  0,  0,  0,  0],\n",
              "       [ 0,  0,  0,  0, 38,  0,  0,  0,  0,  0],\n",
              "       [ 0,  0,  0,  0,  0, 47,  0,  0,  0,  1],\n",
              "       [ 0,  0,  0,  0,  0,  0, 52,  0,  0,  0],\n",
              "       [ 0,  0,  0,  0,  0,  0,  0, 48,  0,  0],\n",
              "       [ 0,  0,  0,  0,  0,  0,  0,  0, 48,  0],\n",
              "       [ 0,  0,  0,  0,  0,  1,  0,  0,  0, 46]])"
            ]
          },
          "metadata": {
            "tags": []
          },
          "execution_count": 15
        }
      ]
    },
    {
      "cell_type": "code",
      "metadata": {
        "id": "Ly1B9-Yua9Hm"
      },
      "source": [
        "import seaborn as sns"
      ],
      "execution_count": 16,
      "outputs": []
    },
    {
      "cell_type": "code",
      "metadata": {
        "id": "YhopL2yka9Hm"
      },
      "source": [
        "cm = confusion_matrix(y_test, y_pred)"
      ],
      "execution_count": 17,
      "outputs": []
    },
    {
      "cell_type": "code",
      "metadata": {
        "colab": {
          "base_uri": "https://localhost:8080/",
          "height": 567
        },
        "id": "joCsfzuka9Hn",
        "outputId": "0e13f1ce-a308-42d5-ac7b-5bab1c27392d"
      },
      "source": [
        "plt.figure(figsize=(9,9))\n",
        "sns.heatmap(cm, annot=True, fmt=\".0f\", linewidths=1, cmap = 'Blues_r');\n",
        "plt.ylabel('Actual');\n",
        "plt.xlabel('Predict');\n",
        "figure_title = 'Accuracy Score = {0}'.format(score)\n",
        "plt.title(figure_title, size = 12);"
      ],
      "execution_count": 18,
      "outputs": [
        {
          "output_type": "display_data",
          "data": {
            "image/png": "[encoded data removed]",
            "text/plain": [
              "<Figure size 648x648 with 2 Axes>"
            ]
          },
          "metadata": {
            "tags": [],
            "needs_background": "light"
          }
        }
      ]
    },
    {
      "cell_type": "markdown",
      "metadata": {
        "id": "Ko3izteba9Hn"
      },
      "source": [
        "---\n",
        "# จบแล้ว\n",
        "---"
      ]
    },
    {
      "cell_type": "code",
      "metadata": {
        "id": "ZdHb1x5Ha9Hr"
      },
      "source": [
        ""
      ],
      "execution_count": 18,
      "outputs": []
    }
  ]
}